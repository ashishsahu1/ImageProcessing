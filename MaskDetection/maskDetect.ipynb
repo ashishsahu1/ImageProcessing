{
 "cells": [
  {
   "cell_type": "code",
   "execution_count": 1,
   "metadata": {},
   "outputs": [
    {
     "ename": "error",
     "evalue": "OpenCV(4.3.0) C:\\projects\\opencv-python\\opencv\\modules\\objdetect\\src\\cascadedetect.cpp:1689: error: (-215:Assertion failed) !empty() in function 'cv::CascadeClassifier::detectMultiScale'\n",
     "output_type": "error",
     "traceback": [
      "\u001b[1;31m---------------------------------------------------------------------------\u001b[0m",
      "\u001b[1;31merror\u001b[0m                                     Traceback (most recent call last)",
      "\u001b[1;32m<ipython-input-1-b9b173b17eca>\u001b[0m in \u001b[0;36m<module>\u001b[1;34m\u001b[0m\n\u001b[0;32m     41\u001b[0m \u001b[1;33m\u001b[0m\u001b[0m\n\u001b[0;32m     42\u001b[0m     \u001b[1;31m# detect face\u001b[0m\u001b[1;33m\u001b[0m\u001b[1;33m\u001b[0m\u001b[1;33m\u001b[0m\u001b[0m\n\u001b[1;32m---> 43\u001b[1;33m     \u001b[0mfaces\u001b[0m \u001b[1;33m=\u001b[0m \u001b[0mface_cascade\u001b[0m\u001b[1;33m.\u001b[0m\u001b[0mdetectMultiScale\u001b[0m\u001b[1;33m(\u001b[0m\u001b[0mgray\u001b[0m\u001b[1;33m,\u001b[0m \u001b[1;36m1.1\u001b[0m\u001b[1;33m,\u001b[0m \u001b[1;36m4\u001b[0m\u001b[1;33m)\u001b[0m\u001b[1;33m\u001b[0m\u001b[1;33m\u001b[0m\u001b[0m\n\u001b[0m\u001b[0;32m     44\u001b[0m \u001b[1;33m\u001b[0m\u001b[0m\n\u001b[0;32m     45\u001b[0m     \u001b[1;31m# Face prediction for black and white\u001b[0m\u001b[1;33m\u001b[0m\u001b[1;33m\u001b[0m\u001b[1;33m\u001b[0m\u001b[0m\n",
      "\u001b[1;31merror\u001b[0m: OpenCV(4.3.0) C:\\projects\\opencv-python\\opencv\\modules\\objdetect\\src\\cascadedetect.cpp:1689: error: (-215:Assertion failed) !empty() in function 'cv::CascadeClassifier::detectMultiScale'\n"
     ]
    }
   ],
   "source": [
    "import numpy as np\n",
    "import cv2\n",
    "import random\n",
    "\n",
    "# multiple cascades: https://github.com/Itseez/opencv/tree/master/data/haarcascades\n",
    "\n",
    "face_cascade = cv2.CascadeClassifier('cv2.data.haarcascades + haarcascade_frontalface_default.xml')\n",
    "eye_cascade = cv2.CascadeClassifier('cv2.data.haarcascades + haarcascade_eye.xml')\n",
    "mouth_cascade = cv2.CascadeClassifier('cv2.data.haarcascades + haarcascade_mcs_mouth.xml')\n",
    "upper_body = cv2.CascadeClassifier('cv2.data.haarcascades + haarcascade_upperbody.xml')\n",
    "\n",
    "\n",
    "\n",
    "# Adjust threshold value in range 80 to 105 based on your light.\n",
    "bw_threshold = 80\n",
    "\n",
    "# User message\n",
    "font = cv2.FONT_HERSHEY_SIMPLEX\n",
    "org = (30, 30)\n",
    "weared_mask_font_color = (255, 255, 255)\n",
    "not_weared_mask_font_color = (0, 0, 255)\n",
    "thickness = 2\n",
    "font_scale = 1\n",
    "weared_mask = \"Thank You for wearing MASK\"\n",
    "not_weared_mask = \"Please wear MASK to defeat Corona\"\n",
    "\n",
    "# Read video\n",
    "cap = cv2.VideoCapture(0)\n",
    "\n",
    "while 1:\n",
    "    # Get individual frame\n",
    "    ret, img = cap.read()\n",
    "    img = cv2.flip(img,1)\n",
    "\n",
    "    # Convert Image into gray\n",
    "    gray = cv2.cvtColor(img, cv2.COLOR_BGR2GRAY)\n",
    "\n",
    "    # Convert image in black and white\n",
    "    (thresh, black_and_white) = cv2.threshold(gray, bw_threshold, 255, cv2.THRESH_BINARY)\n",
    "    cv2.imshow('black_and_white', black_and_white)\n",
    "\n",
    "    # detect face\n",
    "    faces = face_cascade.detectMultiScale(gray, 1.1, 4)\n",
    "\n",
    "    # Face prediction for black and white\n",
    "    faces_bw = face_cascade.detectMultiScale(black_and_white, 1.1, 4)\n",
    "\n",
    "\n",
    "    if(len(faces) == 0 and len(faces_bw) == 0):\n",
    "        cv2.putText(img, \"No face found...\", org, font, font_scale, weared_mask_font_color, thickness, cv2.LINE_AA)\n",
    "    elif(len(faces) == 0 and len(faces_bw) == 1):\n",
    "        # It has been observed that for white mask covering mouth, with gray image face prediction is not happening\n",
    "        cv2.putText(img, weared_mask, org, font, font_scale, weared_mask_font_color, thickness, cv2.LINE_AA)\n",
    "    else:\n",
    "        # Draw rectangle on gace\n",
    "        for (x, y, w, h) in faces:\n",
    "            cv2.rectangle(img, (x, y), (x + w, y + h), (255, 255, 255), 2)\n",
    "            roi_gray = gray[y:y + h, x:x + w]\n",
    "            roi_color = img[y:y + h, x:x + w]\n",
    "\n",
    "\n",
    "            # Detect lips counters\n",
    "            mouth_rects = mouth_cascade.detectMultiScale(gray, 1.5, 5)\n",
    "\n",
    "            \n",
    "\n",
    "    # Show frame with results\n",
    "    cv2.imshow('Mask Detection', img)\n",
    "    k = cv2.waitKey(30) & 0xff\n",
    "    if k == 27:\n",
    "        break\n",
    "\n",
    "# Release video\n",
    "cap.release()\n",
    "cv2.destroyAllWindows()"
   ]
  },
  {
   "cell_type": "code",
   "execution_count": null,
   "metadata": {},
   "outputs": [],
   "source": []
  }
 ],
 "metadata": {
  "kernelspec": {
   "display_name": "Python 3",
   "language": "python",
   "name": "python3"
  },
  "language_info": {
   "codemirror_mode": {
    "name": "ipython",
    "version": 3
   },
   "file_extension": ".py",
   "mimetype": "text/x-python",
   "name": "python",
   "nbconvert_exporter": "python",
   "pygments_lexer": "ipython3",
   "version": "3.7.7"
  }
 },
 "nbformat": 4,
 "nbformat_minor": 4
}
